{
  "nbformat": 4,
  "nbformat_minor": 0,
  "metadata": {
    "colab": {
      "provenance": [],
      "machine_shape": "hm",
      "gpuType": "T4"
    },
    "kernelspec": {
      "name": "python3",
      "display_name": "Python 3"
    },
    "language_info": {
      "name": "python"
    },
    "accelerator": "GPU"
  },
  "cells": [
    {
      "cell_type": "markdown",
      "source": [
        "# Prototyping LangChain Application with Production Minded Changes\n",
        "\n",
        "For our first breakout room we'll be exploring how to set-up a LangChain LCEL chain in a way that takes advantage of all of the amazing out of the box production ready features it offers.\n",
        "\n",
        "We'll also explore `Caching` and what makes it an invaluable tool when transitioning to production environments.\n",
        "\n",
        "🤝 BREAKOUT ROOM #1:\n",
        "  - Task 1: Depends and Set-Up\n",
        "  - Task 2: Setting up RAG With Production in Mind\n",
        "  - Task 3: RAG LCEL Chain\n",
        "\n"
      ],
      "metadata": {
        "id": "8ZsP-j7w3zcL"
      }
    },
    {
      "cell_type": "markdown",
      "source": [
        "## Task 1: Depends and Set-Up\n",
        "\n",
        "Let's get everything we need - we're going to use very specific versioning today to try to mitigate potential env. issues!\n",
        "\n",
        "> NOTE: Dependency issues are a large portion of what you're going to be tackling as you integrate new technology into your work - please keep in mind that one of the things you should be passively learning throughout this course is ways to mitigate dependency issues."
      ],
      "metadata": {
        "id": "PpeN9ND0HKa0"
      }
    },
    {
      "cell_type": "code",
      "execution_count": 1,
      "metadata": {
        "id": "0P4IJUQF27jW",
        "colab": {
          "base_uri": "https://localhost:8080/"
        },
        "outputId": "3ea37c04-9203-4e03-c6a1-a37b19088e39"
      },
      "outputs": [
        {
          "output_type": "stream",
          "name": "stdout",
          "text": [
            "\u001b[2K     \u001b[90m━━━━━━━━━━━━━━━━━━━━━━━━━━━━━━━━━━━━━━━━\u001b[0m \u001b[32m50.4/50.4 kB\u001b[0m \u001b[31m3.5 MB/s\u001b[0m eta \u001b[36m0:00:00\u001b[0m\n",
            "\u001b[2K   \u001b[90m━━━━━━━━━━━━━━━━━━━━━━━━━━━━━━━━━━━━━━━━\u001b[0m \u001b[32m51.5/51.5 kB\u001b[0m \u001b[31m4.0 MB/s\u001b[0m eta \u001b[36m0:00:00\u001b[0m\n",
            "\u001b[2K   \u001b[90m━━━━━━━━━━━━━━━━━━━━━━━━━━━━━━━━━━━━━━━━\u001b[0m \u001b[32m2.3/2.3 MB\u001b[0m \u001b[31m25.0 MB/s\u001b[0m eta \u001b[36m0:00:00\u001b[0m\n",
            "\u001b[2K   \u001b[90m━━━━━━━━━━━━━━━━━━━━━━━━━━━━━━━━━━━━━━━━\u001b[0m \u001b[32m1.0/1.0 MB\u001b[0m \u001b[31m31.6 MB/s\u001b[0m eta \u001b[36m0:00:00\u001b[0m\n",
            "\u001b[2K   \u001b[90m━━━━━━━━━━━━━━━━━━━━━━━━━━━━━━━━━━━━━━━━\u001b[0m \u001b[32m3.5/3.5 MB\u001b[0m \u001b[31m28.8 MB/s\u001b[0m eta \u001b[36m0:00:00\u001b[0m\n",
            "\u001b[2K   \u001b[90m━━━━━━━━━━━━━━━━━━━━━━━━━━━━━━━━━━━━━━━━\u001b[0m \u001b[32m258.9/258.9 kB\u001b[0m \u001b[31m22.5 MB/s\u001b[0m eta \u001b[36m0:00:00\u001b[0m\n",
            "\u001b[2K   \u001b[90m━━━━━━━━━━━━━━━━━━━━━━━━━━━━━━━━━━━━━━━━\u001b[0m \u001b[32m289.9/289.9 kB\u001b[0m \u001b[31m21.3 MB/s\u001b[0m eta \u001b[36m0:00:00\u001b[0m\n",
            "\u001b[2K   \u001b[90m━━━━━━━━━━━━━━━━━━━━━━━━━━━━━━━━━━━━━━━━\u001b[0m \u001b[32m15.9/15.9 MB\u001b[0m \u001b[31m71.3 MB/s\u001b[0m eta \u001b[36m0:00:00\u001b[0m\n",
            "\u001b[2K   \u001b[90m━━━━━━━━━━━━━━━━━━━━━━━━━━━━━━━━━━━━━━━━\u001b[0m \u001b[32m2.4/2.4 MB\u001b[0m \u001b[31m67.1 MB/s\u001b[0m eta \u001b[36m0:00:00\u001b[0m\n",
            "\u001b[2K   \u001b[90m━━━━━━━━━━━━━━━━━━━━━━━━━━━━━━━━━━━━━━━━\u001b[0m \u001b[32m5.8/5.8 MB\u001b[0m \u001b[31m71.4 MB/s\u001b[0m eta \u001b[36m0:00:00\u001b[0m\n",
            "\u001b[2K   \u001b[90m━━━━━━━━━━━━━━━━━━━━━━━━━━━━━━━━━━━━━━━━\u001b[0m \u001b[32m76.4/76.4 kB\u001b[0m \u001b[31m6.5 MB/s\u001b[0m eta \u001b[36m0:00:00\u001b[0m\n",
            "\u001b[2K   \u001b[90m━━━━━━━━━━━━━━━━━━━━━━━━━━━━━━━━━━━━━━━━\u001b[0m \u001b[32m78.0/78.0 kB\u001b[0m \u001b[31m7.1 MB/s\u001b[0m eta \u001b[36m0:00:00\u001b[0m\n",
            "\u001b[2K   \u001b[90m━━━━━━━━━━━━━━━━━━━━━━━━━━━━━━━━━━━━━━━━\u001b[0m \u001b[32m399.7/399.7 kB\u001b[0m \u001b[31m28.9 MB/s\u001b[0m eta \u001b[36m0:00:00\u001b[0m\n",
            "\u001b[2K   \u001b[90m━━━━━━━━━━━━━━━━━━━━━━━━━━━━━━━━━━━━━━━━\u001b[0m \u001b[32m383.5/383.5 kB\u001b[0m \u001b[31m29.6 MB/s\u001b[0m eta \u001b[36m0:00:00\u001b[0m\n",
            "\u001b[2K   \u001b[90m━━━━━━━━━━━━━━━━━━━━━━━━━━━━━━━━━━━━━━━━\u001b[0m \u001b[32m141.9/141.9 kB\u001b[0m \u001b[31m13.3 MB/s\u001b[0m eta \u001b[36m0:00:00\u001b[0m\n",
            "\u001b[2K   \u001b[90m━━━━━━━━━━━━━━━━━━━━━━━━━━━━━━━━━━━━━━━━\u001b[0m \u001b[32m1.2/1.2 MB\u001b[0m \u001b[31m50.7 MB/s\u001b[0m eta \u001b[36m0:00:00\u001b[0m\n",
            "\u001b[2K   \u001b[90m━━━━━━━━━━━━━━━━━━━━━━━━━━━━━━━━━━━━━━━━\u001b[0m \u001b[32m57.5/57.5 kB\u001b[0m \u001b[31m5.5 MB/s\u001b[0m eta \u001b[36m0:00:00\u001b[0m\n",
            "\u001b[2K   \u001b[90m━━━━━━━━━━━━━━━━━━━━━━━━━━━━━━━━━━━━━━━━\u001b[0m \u001b[32m318.9/318.9 kB\u001b[0m \u001b[31m26.4 MB/s\u001b[0m eta \u001b[36m0:00:00\u001b[0m\n",
            "\u001b[2K   \u001b[90m━━━━━━━━━━━━━━━━━━━━━━━━━━━━━━━━━━━━━━━━\u001b[0m \u001b[32m49.3/49.3 kB\u001b[0m \u001b[31m3.9 MB/s\u001b[0m eta \u001b[36m0:00:00\u001b[0m\n",
            "\u001b[2K   \u001b[90m━━━━━━━━━━━━━━━━━━━━━━━━━━━━━━━━━━━━━━━━\u001b[0m \u001b[32m316.6/316.6 kB\u001b[0m \u001b[31m26.7 MB/s\u001b[0m eta \u001b[36m0:00:00\u001b[0m\n",
            "\u001b[2K   \u001b[90m━━━━━━━━━━━━━━━━━━━━━━━━━━━━━━━━━━━━━━━━\u001b[0m \u001b[32m58.3/58.3 kB\u001b[0m \u001b[31m5.3 MB/s\u001b[0m eta \u001b[36m0:00:00\u001b[0m\n",
            "\u001b[?25h\u001b[31mERROR: pip's dependency resolver does not currently take into account all the packages that are installed. This behaviour is the source of the following dependency conflicts.\n",
            "google-ai-generativelanguage 0.6.6 requires protobuf!=3.20.0,!=3.20.1,!=4.21.0,!=4.21.1,!=4.21.2,!=4.21.3,!=4.21.4,!=4.21.5,<5.0.0dev,>=3.19.5, but you have protobuf 5.28.2 which is incompatible.\n",
            "google-cloud-datastore 2.19.0 requires protobuf!=3.20.0,!=3.20.1,!=4.21.0,!=4.21.1,!=4.21.2,!=4.21.3,!=4.21.4,!=4.21.5,<5.0.0dev,>=3.19.5, but you have protobuf 5.28.2 which is incompatible.\n",
            "google-cloud-firestore 2.16.1 requires protobuf!=3.20.0,!=3.20.1,!=4.21.0,!=4.21.1,!=4.21.2,!=4.21.3,!=4.21.4,!=4.21.5,<5.0.0dev,>=3.19.5, but you have protobuf 5.28.2 which is incompatible.\n",
            "tensorboard 2.17.0 requires protobuf!=4.24.0,<5.0.0,>=3.19.6, but you have protobuf 5.28.2 which is incompatible.\n",
            "tensorflow 2.17.0 requires protobuf!=4.21.0,!=4.21.1,!=4.21.2,!=4.21.3,!=4.21.4,!=4.21.5,<5.0.0dev,>=3.20.3, but you have protobuf 5.28.2 which is incompatible.\n",
            "tensorflow-metadata 1.15.0 requires protobuf<4.21,>=3.20.3; python_version < \"3.11\", but you have protobuf 5.28.2 which is incompatible.\u001b[0m\u001b[31m\n",
            "\u001b[0m"
          ]
        }
      ],
      "source": [
        "!pip install -qU langchain_openai==0.2.0 langchain_community==0.3.0 langchain==0.3.0 pymupdf==1.24.10 qdrant-client==1.11.2 langchain_qdrant==0.1.4 langsmith==0.1.121"
      ]
    },
    {
      "cell_type": "markdown",
      "source": [
        "We'll need an OpenAI API Key:"
      ],
      "metadata": {
        "id": "qYcWLzrmHgDb"
      }
    },
    {
      "cell_type": "code",
      "source": [
        "import os\n",
        "import getpass\n",
        "\n",
        "os.environ[\"OPENAI_API_KEY\"] = getpass.getpass(\"OpenAI API Key:\")"
      ],
      "metadata": {
        "colab": {
          "base_uri": "https://localhost:8080/"
        },
        "id": "GZ8qfrFh_6ed",
        "outputId": "1c2e379f-eedd-4cb6-88a1-7d88c4c9f490"
      },
      "execution_count": 2,
      "outputs": [
        {
          "name": "stdout",
          "output_type": "stream",
          "text": [
            "OpenAI API Key:··········\n"
          ]
        }
      ]
    },
    {
      "cell_type": "markdown",
      "source": [
        "And the LangSmith set-up:"
      ],
      "metadata": {
        "id": "piz2DUDuHiSO"
      }
    },
    {
      "cell_type": "code",
      "source": [
        "import uuid\n",
        "\n",
        "os.environ[\"LANGCHAIN_PROJECT\"] = f\"AIM Week 8 Assignment 1 - {uuid.uuid4().hex[0:8]}\"\n",
        "os.environ[\"LANGCHAIN_TRACING_V2\"] = \"true\"\n",
        "os.environ[\"LANGCHAIN_ENDPOINT\"] = \"https://api.smith.langchain.com\"\n",
        "os.environ[\"LANGCHAIN_API_KEY\"] = getpass.getpass(\"LangChain API Key:\")"
      ],
      "metadata": {
        "id": "wLZX5zowCh-q",
        "outputId": "c986355b-be40-422f-ee5e-25e7755005d1",
        "colab": {
          "base_uri": "https://localhost:8080/"
        }
      },
      "execution_count": 3,
      "outputs": [
        {
          "name": "stdout",
          "output_type": "stream",
          "text": [
            "LangChain API Key:··········\n"
          ]
        }
      ]
    },
    {
      "cell_type": "markdown",
      "source": [
        "Let's verify our project so we can leverage it in LangSmith later."
      ],
      "metadata": {
        "id": "WmwNTziKHrQm"
      }
    },
    {
      "cell_type": "code",
      "source": [
        "print(os.environ[\"LANGCHAIN_PROJECT\"])"
      ],
      "metadata": {
        "colab": {
          "base_uri": "https://localhost:8080/"
        },
        "id": "T6GZmkVkFcHq",
        "outputId": "80dd53de-52ae-4ff8-defb-309c2e026b1e"
      },
      "execution_count": 4,
      "outputs": [
        {
          "output_type": "stream",
          "name": "stdout",
          "text": [
            "AIM Week 8 Assignment 1 - 0cf2052e\n"
          ]
        }
      ]
    },
    {
      "cell_type": "markdown",
      "source": [
        "## Task 2: Setting up RAG With Production in Mind\n",
        "\n",
        "This is the most crucial step in the process - in order to take advantage of:\n",
        "\n",
        "- Asyncronous requests\n",
        "- Parallel Execution in Chains\n",
        "- And more...\n",
        "\n",
        "You must...use LCEL. These benefits are provided out of the box and largely optimized behind the scenes."
      ],
      "metadata": {
        "id": "un_ppfaAHv1J"
      }
    },
    {
      "cell_type": "markdown",
      "source": [
        "### Building our RAG Components: Retriever\n",
        "\n",
        "We'll start by building some familiar components - and showcase how they automatically scale to production features."
      ],
      "metadata": {
        "id": "vGi-db23JMAL"
      }
    },
    {
      "cell_type": "markdown",
      "source": [
        "Please upload a PDF file to use in this example!\n",
        "\n",
        "⚠ If you're running in a non-Chrome browser - you may run into issues with this cell. Please upload the file using Colab's file upload - and indicate the `file_path` in the cell with `file_path`. ⚠\n",
        "\n",
        "![image](https://i.imgur.com/Qa1Uwlj.png)\n",
        "\n",
        "\n",
        "\n",
        "> NOTE: You can skip this step if you are running locally - please just point to your local file."
      ],
      "metadata": {
        "id": "zvbT3HSDJemE"
      }
    },
    {
      "cell_type": "code",
      "source": [
        "from google.colab import files\n",
        "uploaded = files.upload()"
      ],
      "metadata": {
        "colab": {
          "base_uri": "https://localhost:8080/",
          "height": 73
        },
        "id": "dvYczNeY91Hn",
        "outputId": "1634aed0-42b4-4abb-8505-eeae4926f576"
      },
      "execution_count": 5,
      "outputs": [
        {
          "output_type": "display_data",
          "data": {
            "text/plain": [
              "<IPython.core.display.HTML object>"
            ],
            "text/html": [
              "\n",
              "     <input type=\"file\" id=\"files-6cfff920-d60e-4545-8e49-f7e34e66427c\" name=\"files[]\" multiple disabled\n",
              "        style=\"border:none\" />\n",
              "     <output id=\"result-6cfff920-d60e-4545-8e49-f7e34e66427c\">\n",
              "      Upload widget is only available when the cell has been executed in the\n",
              "      current browser session. Please rerun this cell to enable.\n",
              "      </output>\n",
              "      <script>// Copyright 2017 Google LLC\n",
              "//\n",
              "// Licensed under the Apache License, Version 2.0 (the \"License\");\n",
              "// you may not use this file except in compliance with the License.\n",
              "// You may obtain a copy of the License at\n",
              "//\n",
              "//      http://www.apache.org/licenses/LICENSE-2.0\n",
              "//\n",
              "// Unless required by applicable law or agreed to in writing, software\n",
              "// distributed under the License is distributed on an \"AS IS\" BASIS,\n",
              "// WITHOUT WARRANTIES OR CONDITIONS OF ANY KIND, either express or implied.\n",
              "// See the License for the specific language governing permissions and\n",
              "// limitations under the License.\n",
              "\n",
              "/**\n",
              " * @fileoverview Helpers for google.colab Python module.\n",
              " */\n",
              "(function(scope) {\n",
              "function span(text, styleAttributes = {}) {\n",
              "  const element = document.createElement('span');\n",
              "  element.textContent = text;\n",
              "  for (const key of Object.keys(styleAttributes)) {\n",
              "    element.style[key] = styleAttributes[key];\n",
              "  }\n",
              "  return element;\n",
              "}\n",
              "\n",
              "// Max number of bytes which will be uploaded at a time.\n",
              "const MAX_PAYLOAD_SIZE = 100 * 1024;\n",
              "\n",
              "function _uploadFiles(inputId, outputId) {\n",
              "  const steps = uploadFilesStep(inputId, outputId);\n",
              "  const outputElement = document.getElementById(outputId);\n",
              "  // Cache steps on the outputElement to make it available for the next call\n",
              "  // to uploadFilesContinue from Python.\n",
              "  outputElement.steps = steps;\n",
              "\n",
              "  return _uploadFilesContinue(outputId);\n",
              "}\n",
              "\n",
              "// This is roughly an async generator (not supported in the browser yet),\n",
              "// where there are multiple asynchronous steps and the Python side is going\n",
              "// to poll for completion of each step.\n",
              "// This uses a Promise to block the python side on completion of each step,\n",
              "// then passes the result of the previous step as the input to the next step.\n",
              "function _uploadFilesContinue(outputId) {\n",
              "  const outputElement = document.getElementById(outputId);\n",
              "  const steps = outputElement.steps;\n",
              "\n",
              "  const next = steps.next(outputElement.lastPromiseValue);\n",
              "  return Promise.resolve(next.value.promise).then((value) => {\n",
              "    // Cache the last promise value to make it available to the next\n",
              "    // step of the generator.\n",
              "    outputElement.lastPromiseValue = value;\n",
              "    return next.value.response;\n",
              "  });\n",
              "}\n",
              "\n",
              "/**\n",
              " * Generator function which is called between each async step of the upload\n",
              " * process.\n",
              " * @param {string} inputId Element ID of the input file picker element.\n",
              " * @param {string} outputId Element ID of the output display.\n",
              " * @return {!Iterable<!Object>} Iterable of next steps.\n",
              " */\n",
              "function* uploadFilesStep(inputId, outputId) {\n",
              "  const inputElement = document.getElementById(inputId);\n",
              "  inputElement.disabled = false;\n",
              "\n",
              "  const outputElement = document.getElementById(outputId);\n",
              "  outputElement.innerHTML = '';\n",
              "\n",
              "  const pickedPromise = new Promise((resolve) => {\n",
              "    inputElement.addEventListener('change', (e) => {\n",
              "      resolve(e.target.files);\n",
              "    });\n",
              "  });\n",
              "\n",
              "  const cancel = document.createElement('button');\n",
              "  inputElement.parentElement.appendChild(cancel);\n",
              "  cancel.textContent = 'Cancel upload';\n",
              "  const cancelPromise = new Promise((resolve) => {\n",
              "    cancel.onclick = () => {\n",
              "      resolve(null);\n",
              "    };\n",
              "  });\n",
              "\n",
              "  // Wait for the user to pick the files.\n",
              "  const files = yield {\n",
              "    promise: Promise.race([pickedPromise, cancelPromise]),\n",
              "    response: {\n",
              "      action: 'starting',\n",
              "    }\n",
              "  };\n",
              "\n",
              "  cancel.remove();\n",
              "\n",
              "  // Disable the input element since further picks are not allowed.\n",
              "  inputElement.disabled = true;\n",
              "\n",
              "  if (!files) {\n",
              "    return {\n",
              "      response: {\n",
              "        action: 'complete',\n",
              "      }\n",
              "    };\n",
              "  }\n",
              "\n",
              "  for (const file of files) {\n",
              "    const li = document.createElement('li');\n",
              "    li.append(span(file.name, {fontWeight: 'bold'}));\n",
              "    li.append(span(\n",
              "        `(${file.type || 'n/a'}) - ${file.size} bytes, ` +\n",
              "        `last modified: ${\n",
              "            file.lastModifiedDate ? file.lastModifiedDate.toLocaleDateString() :\n",
              "                                    'n/a'} - `));\n",
              "    const percent = span('0% done');\n",
              "    li.appendChild(percent);\n",
              "\n",
              "    outputElement.appendChild(li);\n",
              "\n",
              "    const fileDataPromise = new Promise((resolve) => {\n",
              "      const reader = new FileReader();\n",
              "      reader.onload = (e) => {\n",
              "        resolve(e.target.result);\n",
              "      };\n",
              "      reader.readAsArrayBuffer(file);\n",
              "    });\n",
              "    // Wait for the data to be ready.\n",
              "    let fileData = yield {\n",
              "      promise: fileDataPromise,\n",
              "      response: {\n",
              "        action: 'continue',\n",
              "      }\n",
              "    };\n",
              "\n",
              "    // Use a chunked sending to avoid message size limits. See b/62115660.\n",
              "    let position = 0;\n",
              "    do {\n",
              "      const length = Math.min(fileData.byteLength - position, MAX_PAYLOAD_SIZE);\n",
              "      const chunk = new Uint8Array(fileData, position, length);\n",
              "      position += length;\n",
              "\n",
              "      const base64 = btoa(String.fromCharCode.apply(null, chunk));\n",
              "      yield {\n",
              "        response: {\n",
              "          action: 'append',\n",
              "          file: file.name,\n",
              "          data: base64,\n",
              "        },\n",
              "      };\n",
              "\n",
              "      let percentDone = fileData.byteLength === 0 ?\n",
              "          100 :\n",
              "          Math.round((position / fileData.byteLength) * 100);\n",
              "      percent.textContent = `${percentDone}% done`;\n",
              "\n",
              "    } while (position < fileData.byteLength);\n",
              "  }\n",
              "\n",
              "  // All done.\n",
              "  yield {\n",
              "    response: {\n",
              "      action: 'complete',\n",
              "    }\n",
              "  };\n",
              "}\n",
              "\n",
              "scope.google = scope.google || {};\n",
              "scope.google.colab = scope.google.colab || {};\n",
              "scope.google.colab._files = {\n",
              "  _uploadFiles,\n",
              "  _uploadFilesContinue,\n",
              "};\n",
              "})(self);\n",
              "</script> "
            ]
          },
          "metadata": {}
        },
        {
          "output_type": "stream",
          "name": "stdout",
          "text": [
            "Saving prompt_best_practices.pdf to prompt_best_practices.pdf\n"
          ]
        }
      ]
    },
    {
      "cell_type": "code",
      "source": [
        "file_path = list(uploaded.keys())[0]\n",
        "file_path"
      ],
      "metadata": {
        "colab": {
          "base_uri": "https://localhost:8080/",
          "height": 35
        },
        "id": "NtwoVUbaJlbW",
        "outputId": "76aed2fd-57bb-428c-d654-a0daf30c036f"
      },
      "execution_count": 6,
      "outputs": [
        {
          "output_type": "execute_result",
          "data": {
            "text/plain": [
              "'prompt_best_practices.pdf'"
            ],
            "application/vnd.google.colaboratory.intrinsic+json": {
              "type": "string"
            }
          },
          "metadata": {},
          "execution_count": 6
        }
      ]
    },
    {
      "cell_type": "markdown",
      "source": [
        "We'll define our chunking strategy."
      ],
      "metadata": {
        "id": "kucGy3f0Jhdi"
      }
    },
    {
      "cell_type": "code",
      "source": [
        "from langchain_text_splitters import RecursiveCharacterTextSplitter\n",
        "\n",
        "text_splitter = RecursiveCharacterTextSplitter(chunk_size=1000, chunk_overlap=100)"
      ],
      "metadata": {
        "id": "G-DNvNFd8je5"
      },
      "execution_count": 7,
      "outputs": []
    },
    {
      "cell_type": "markdown",
      "source": [
        "We'll chunk our uploaded PDF file."
      ],
      "metadata": {
        "id": "3_zRRNcLKCZh"
      }
    },
    {
      "cell_type": "code",
      "source": [
        "from langchain_community.document_loaders import PyMuPDFLoader\n",
        "\n",
        "Loader = PyMuPDFLoader\n",
        "loader = Loader(file_path)\n",
        "documents = loader.load()\n",
        "docs = text_splitter.split_documents(documents)\n",
        "for i, doc in enumerate(docs):\n",
        "    doc.metadata[\"source\"] = f\"source_{i}\""
      ],
      "metadata": {
        "id": "KOh6w9ud-ff6"
      },
      "execution_count": 8,
      "outputs": []
    },
    {
      "cell_type": "markdown",
      "source": [
        "#### QDrant Vector Database - Cache Backed Embeddings\n",
        "\n",
        "The process of embedding is typically a very time consuming one - we must, for ever single vector in our VDB as well as query:\n",
        "\n",
        "1. Send the text to an API endpoint (self-hosted, OpenAI, etc)\n",
        "2. Wait for processing\n",
        "3. Receive response\n",
        "\n",
        "This process costs time, and money - and occurs *every single time a document gets converted into a vector representation*.\n",
        "\n",
        "Instead, what if we:\n",
        "\n",
        "1. Set up a cache that can hold our vectors and embeddings (similar to, or in some cases literally a vector database)\n",
        "2. Send the text to an API endpoint (self-hosted, OpenAI, etc)\n",
        "3. Check the cache to see if we've already converted this text before.\n",
        "  - If we have: Return the vector representation\n",
        "  - Else: Wait for processing and proceed\n",
        "4. Store the text that was converted alongside its vector representation in a cache of some kind.\n",
        "5. Return the vector representation\n",
        "\n",
        "Notice that we can shortcut some instances of \"Wait for processing and proceed\".\n",
        "\n",
        "Let's see how this is implemented in the code."
      ],
      "metadata": {
        "id": "U4XLeqJMKGdQ"
      }
    },
    {
      "cell_type": "code",
      "source": [
        "from qdrant_client import QdrantClient\n",
        "from qdrant_client.http.models import Distance, VectorParams\n",
        "from langchain_openai.embeddings import OpenAIEmbeddings\n",
        "from langchain.storage import LocalFileStore\n",
        "from langchain_qdrant import QdrantVectorStore\n",
        "from langchain.embeddings import CacheBackedEmbeddings\n",
        "\n",
        "# Typical Embedding Model\n",
        "core_embeddings = OpenAIEmbeddings(model=\"text-embedding-3-small\")\n",
        "\n",
        "# Typical QDrant Client Set-up\n",
        "collection_name = f\"pdf_to_parse_{uuid.uuid4()}\"\n",
        "client = QdrantClient(\":memory:\")\n",
        "client.create_collection(\n",
        "    collection_name=collection_name,\n",
        "    vectors_config=VectorParams(size=1536, distance=Distance.COSINE),\n",
        ")\n",
        "\n",
        "# Adding cache!\n",
        "store = LocalFileStore(\"./cache/\")\n",
        "cached_embedder = CacheBackedEmbeddings.from_bytes_store(\n",
        "    core_embeddings, store, namespace=core_embeddings.model\n",
        ")\n",
        "\n",
        "# Typical QDrant Vector Store Set-up\n",
        "vectorstore = QdrantVectorStore(\n",
        "    client=client,\n",
        "    collection_name=collection_name,\n",
        "    embedding=cached_embedder)\n",
        "vectorstore.add_documents(docs)\n",
        "retriever = vectorstore.as_retriever(search_type=\"mmr\", search_kwargs={\"k\": 3})"
      ],
      "metadata": {
        "id": "dzPUTCua98b2"
      },
      "execution_count": 9,
      "outputs": []
    },
    {
      "cell_type": "markdown",
      "source": [
        "##### ❓ Question #1:\n",
        "\n",
        "What are some limitations you can see with this approach? When is this most/least useful. Discuss with your group!\n",
        "\n",
        "By setting up a cache for vector embeddings, you can avoid redundant conversions by checking if a document has already been processed. This saves time and costs, especially for repeated or similar content. However, managing the cache, handling model updates, saving in local db with memory constraint, and ensuring efficiency for unique inputs are key challenges. In the right use case, this approach can streamline operations significantly.\n",
        "\n",
        "> NOTE: There is no single correct answer here!"
      ],
      "metadata": {
        "id": "QVZGvmNYLomp"
      }
    },
    {
      "cell_type": "markdown",
      "source": [
        "##### 🏗️ Activity #1:\n",
        "\n",
        "Create a simple experiment that tests the cache-backed embeddings."
      ],
      "metadata": {
        "id": "vZAOhyb3L9iD"
      }
    },
    {
      "cell_type": "code",
      "source": [
        "docs[1].page_content"
      ],
      "metadata": {
        "id": "lIKakgJpcgBC",
        "outputId": "f94a001c-e774-4de7-a005-a95277a1eb67",
        "colab": {
          "base_uri": "https://localhost:8080/",
          "height": 157
        }
      },
      "execution_count": 17,
      "outputs": [
        {
          "output_type": "execute_result",
          "data": {
            "text/plain": [
              "'https://github.com/VILA-Lab/ATLAS.\\n1\\nIntroduction\\n“\\nPrompt engineering is the art of communicating with a generative\\nlarge language model.\\n”\\nChatGPT, 2023\\nLarge language models (LLMs) like ChatGPT [13] have shown impressive abilities\\nin various domains and tasks, such as answering questions [7], mathematical reason-\\ning [5], code generating [11, 9], etc. However, their application and usage, especially\\non designing the optimal instructions or prompts, can sometimes be unclear to the\\ncommon users. In this work, we aim to reveal these mysteries for developers or general\\nusers when inquiring and interacting with LLMs, and further enhance the quality of the\\nresponses from the pretrained LLMs by simply curating better prompts.\\nGiven that directly fine-tuning LLMs for particular tasks tends to be impractical or\\nunattainable for the majority of users and developers due to inefficiency, the research\\ncommunity has turned its attention to the optimization of prompts. The technique of'"
            ],
            "application/vnd.google.colaboratory.intrinsic+json": {
              "type": "string"
            }
          },
          "metadata": {},
          "execution_count": 17
        }
      ]
    },
    {
      "cell_type": "code",
      "source": [
        "### YOUR CODE HERE\n",
        "\n",
        "import time\n",
        "\n",
        "cache = {}\n",
        "\n",
        "def get_embedding(text):\n",
        "    if text in cache:\n",
        "        return cache[text]\n",
        "    else:\n",
        "        time.sleep(1)  # Simulate processing delay\n",
        "        embedding = f\"vector_{hash(text)}\"\n",
        "        cache[text] = embedding\n",
        "        return embedding\n",
        "\n",
        "# Measure time for first call (without cache)\n",
        "start = time.time()\n",
        "get_embedding(docs[1].page_content)\n",
        "print(f\"First call (no cache): {(time.time() - start) * 1000:.2f} ms\")\n",
        "\n",
        "# Measure time for second call (with cache)\n",
        "start = time.time()\n",
        "get_embedding(docs[1].page_content)\n",
        "print(f\"Second call (no cache): {(time.time() - start) * 1000:.2f} ms\")"
      ],
      "metadata": {
        "id": "bRe2pCZhiIkD",
        "outputId": "716d4f2d-ce11-4b06-97f6-82e656391ba7",
        "colab": {
          "base_uri": "https://localhost:8080/"
        }
      },
      "execution_count": 36,
      "outputs": [
        {
          "output_type": "stream",
          "name": "stdout",
          "text": [
            "First call (no cache): 1002.13 ms\n",
            "Second call (no cache): 0.10 ms\n"
          ]
        }
      ]
    },
    {
      "cell_type": "markdown",
      "source": [
        "### Augmentation\n",
        "\n",
        "We'll create the classic RAG Prompt and create our `ChatPromptTemplates` as per usual."
      ],
      "metadata": {
        "id": "DH0i-YovL8kZ"
      }
    },
    {
      "cell_type": "code",
      "source": [
        "from langchain_core.prompts import ChatPromptTemplate\n",
        "\n",
        "rag_system_prompt_template = \"\"\"\\\n",
        "You are a helpful assistant that uses the provided context to answer questions. Never reference this prompt, or the existance of context.\n",
        "\"\"\"\n",
        "\n",
        "rag_message_list = [\n",
        "    {\"role\" : \"system\", \"content\" : rag_system_prompt_template},\n",
        "]\n",
        "\n",
        "rag_user_prompt_template = \"\"\"\\\n",
        "Question:\n",
        "{question}\n",
        "Context:\n",
        "{context}\n",
        "\"\"\"\n",
        "\n",
        "chat_prompt = ChatPromptTemplate.from_messages([\n",
        "    (\"system\", rag_system_prompt_template),\n",
        "    (\"human\", rag_user_prompt_template)\n",
        "])"
      ],
      "metadata": {
        "id": "WchaoMEx9j69"
      },
      "execution_count": 31,
      "outputs": []
    },
    {
      "cell_type": "markdown",
      "source": [
        "### Generation\n",
        "\n",
        "Like usual, we'll set-up a `ChatOpenAI` model - and we'll use the fan favourite `gpt-4o-mini` for today.\n",
        "\n",
        "However, we'll also implement...a PROMPT CACHE!\n",
        "\n",
        "In essence, this works in a very similar way to the embedding cache - if we've seen this prompt before, we just use the stored response."
      ],
      "metadata": {
        "id": "UQKnByVWMpiK"
      }
    },
    {
      "cell_type": "code",
      "source": [
        "from langchain_core.globals import set_llm_cache\n",
        "from langchain_openai import ChatOpenAI\n",
        "\n",
        "chat_model = ChatOpenAI(model=\"gpt-4o-mini\")"
      ],
      "metadata": {
        "id": "fOXKkaY7ABab"
      },
      "execution_count": 39,
      "outputs": []
    },
    {
      "cell_type": "markdown",
      "source": [
        "Setting up the cache can be done as follows:"
      ],
      "metadata": {
        "id": "mhv8IqZoM9cY"
      }
    },
    {
      "cell_type": "code",
      "source": [
        "from langchain_core.caches import InMemoryCache\n",
        "\n",
        "set_llm_cache(InMemoryCache())"
      ],
      "metadata": {
        "id": "thqam26gAyzN"
      },
      "execution_count": 40,
      "outputs": []
    },
    {
      "cell_type": "markdown",
      "source": [
        "##### ❓ Question #2:\n",
        "\n",
        "What are some limitations you can see with this approach? When is this most/least useful. Discuss with your group!\n",
        "\n",
        "Using a prompt cache can save time and money by reusing responses for prompts we've seen before, but it has its downsides. If the model gets updated or the context changes, the cached response might not be relevant anymore. This works best when you're dealing with repetitive or predictable prompts, but it’s less useful when you need fresh, real-time answers that depend on the latest context.\n",
        "\n",
        "> NOTE: There is no single correct answer here!"
      ],
      "metadata": {
        "id": "CvxEovcEM_oA"
      }
    },
    {
      "cell_type": "markdown",
      "source": [
        "##### 🏗️ Activity #2:\n",
        "\n",
        "Create a simple experiment that tests the cache-backed embeddings."
      ],
      "metadata": {
        "id": "3iCMjVYKNEeV"
      }
    },
    {
      "cell_type": "code",
      "source": [
        "from langchain.schema import HumanMessage\n",
        "\n",
        "# Define the prompt\n",
        "prompt = \"Write 10 things about this document!\"\n",
        "\n",
        "# Measure time for first call (without cache)\n",
        "start_time = time.time()\n",
        "response1 = chat_model([HumanMessage(content=prompt)])\n",
        "time_without_cache = (time.time() - start_time) * 1000  # Convert to milliseconds\n",
        "print(f\"First call (no cache): {time_without_cache:.2f} ms\")\n",
        "print(f\"Response: {response1.content}\\n\")\n",
        "\n",
        "# Measure time for second call (with cache)\n",
        "start_time = time.time()\n",
        "response2 = chat_model([HumanMessage(content=prompt)])\n",
        "time_with_cache = (time.time() - start_time) * 1000  # Convert to milliseconds\n",
        "print(f\"Second call (with cache): {time_with_cache:.2f} ms\")\n",
        "print(f\"Response: {response2.content}\\n\")\n",
        "\n",
        "# Calculate performance improvement\n",
        "improvement = time_without_cache - time_with_cache\n",
        "print(f\"Time saved with cache: {improvement:.2f} ms\")"
      ],
      "metadata": {
        "id": "QT5GfmsHNFqP",
        "outputId": "ab76d0fb-3edb-4a33-90ee-cf791b1be0b4",
        "colab": {
          "base_uri": "https://localhost:8080/"
        }
      },
      "execution_count": 38,
      "outputs": [
        {
          "output_type": "stream",
          "name": "stderr",
          "text": [
            "<ipython-input-38-2c6226439132>:8: LangChainDeprecationWarning: The method `BaseChatModel.__call__` was deprecated in langchain-core 0.1.7 and will be removed in 1.0. Use :meth:`~invoke` instead.\n",
            "  response1 = chat_model([HumanMessage(content=prompt)])\n"
          ]
        },
        {
          "output_type": "stream",
          "name": "stdout",
          "text": [
            "First call (no cache): 1012.93 ms\n",
            "Response: Sure! However, I need to have the document or some details about it in order to help you. Please provide the content or key points from the document, and I’ll be happy to summarize or extract information from it!\n",
            "\n",
            "Second call (with cache): 1.59 ms\n",
            "Response: Sure! However, I need to have the document or some details about it in order to help you. Please provide the content or key points from the document, and I’ll be happy to summarize or extract information from it!\n",
            "\n",
            "Time saved with cache: 1011.34 ms\n"
          ]
        }
      ]
    },
    {
      "cell_type": "markdown",
      "source": [
        "## Task 3: RAG LCEL Chain\n",
        "\n",
        "We'll also set-up our typical RAG chain using LCEL.\n",
        "\n",
        "However, this time: We'll specifically call out that the `context` and `question` halves of the first \"link\" in the chain are executed *in parallel* by default!\n",
        "\n",
        "Thanks, LCEL!"
      ],
      "metadata": {
        "id": "zyPnNWb9NH7W"
      }
    },
    {
      "cell_type": "code",
      "source": [
        "from operator import itemgetter\n",
        "from langchain_core.runnables.passthrough import RunnablePassthrough\n",
        "\n",
        "retrieval_augmented_qa_chain = (\n",
        "        {\"context\": itemgetter(\"question\") | retriever, \"question\": itemgetter(\"question\")}\n",
        "        | RunnablePassthrough.assign(context=itemgetter(\"context\"))\n",
        "        | chat_prompt | chat_model\n",
        "    )"
      ],
      "metadata": {
        "id": "3JNvSsx_CEtI"
      },
      "execution_count": 34,
      "outputs": []
    },
    {
      "cell_type": "markdown",
      "source": [
        "Let's test it out!"
      ],
      "metadata": {
        "id": "Sx--wVctNdGa"
      }
    },
    {
      "cell_type": "code",
      "source": [
        "retrieval_augmented_qa_chain.invoke({\"question\" : \"Write 50 things about this document!\"})"
      ],
      "metadata": {
        "colab": {
          "base_uri": "https://localhost:8080/"
        },
        "id": "43uQegbnDQKP",
        "outputId": "1bdba332-729e-4311-b8c2-b0a3f0c0a47d"
      },
      "execution_count": 35,
      "outputs": [
        {
          "output_type": "execute_result",
          "data": {
            "text/plain": [
              "AIMessage(content='1. The document is titled \"prompt_best_practices.pdf.\"\\n2. It consists of 24 pages in total.\\n3. The document was created on December 27, 2023.\\n4. It was last modified on the same date.\\n5. The document is formatted as PDF 1.5.\\n6. It was produced using pdfTeX-1.40.25.\\n7. The document contains metadata indicating the source as \\'source_21.\\'\\n8. The structure of the document includes multiple sections, each focusing on different aspects of prompt principles.\\n9. Page 4 highlights the importance of clearly stating model requirements for content production.\\n10. It emphasizes the use of keywords, regulations, hints, or instructions.\\n11. The document provides guidelines for writing texts similar to provided samples.\\n12. It suggests using the same language as the source material for consistency.\\n13. There is a reference to \"Table 1,\" which summarizes 26 prompt principles.\\n14. Page 19 lists a number of contributors or authors associated with the document.\\n15. It includes names such as David Reitter, Mianna Chen, and Sergey Brin.\\n16. The document appears to be a collaborative effort involving multiple individuals.\\n17. The first page provides an example of a human request followed by a response from GPT-4.\\n18. The example discusses climate change and its impacts.\\n19. It mentions human activities contributing to climate change, such as fossil fuel burning.\\n20. The text outlines the results of climate change, including rising sea levels and extreme weather events.\\n21. Biodiversity threats are highlighted as a consequence of habitat disruption.\\n22. Ocean acidification is also mentioned as a significant impact of increased carbon dioxide.\\n23. The document stresses the need for global cooperation to address climate change.\\n24. It asserts that immediate action is essential for mitigating climate change effects.\\n25. The content is structured in a clear and logical manner.\\n26. The document lacks a specific author listed in the metadata.\\n27. It utilizes LaTeX with hyperref for its formatting.\\n28. There are no keywords provided in the metadata.\\n29. The document does not specify a subject in the metadata.\\n30. It is part of a collection related to PDF parsing.\\n31. The document includes instructional content that aims to enhance writing prompts.\\n32. It encourages the use of clear and concise language.\\n33. The principles outlined are meant to guide effective communication.\\n34. The PDF format allows for easy sharing and accessibility.\\n35. The document is likely intended for users interested in prompt creation.\\n36. It may serve as a resource for educators or trainers.\\n37. The content is focused on artificial intelligence and language models.\\n38. The example included demonstrates practical application of the guidelines.\\n39. The document aims to improve the quality of generated content.\\n40. It highlights the significance of following established practices.\\n41. The principles discussed may be applicable across various domains.\\n42. The collaborative authorship suggests a diverse range of expertise.\\n43. The contributors may come from academic or industry backgrounds.\\n44. The document addresses both environmental and technological themes.\\n45. It appears to be a reference for best practices in prompt engineering.\\n46. The language used is straightforward and accessible.\\n47. The instruction to keep the flow consistent is vital for readability.\\n48. The document promotes the idea of structured writing processes.\\n49. It may be used for developing training materials or workshops.\\n50. Overall, the document serves as a comprehensive guide to effective prompt practices.', additional_kwargs={'refusal': None}, response_metadata={'token_usage': {'completion_tokens': 708, 'prompt_tokens': 1148, 'total_tokens': 1856, 'completion_tokens_details': {'audio_tokens': None, 'reasoning_tokens': 0}, 'prompt_tokens_details': {'audio_tokens': None, 'cached_tokens': 1024}}, 'model_name': 'gpt-4o-mini-2024-07-18', 'system_fingerprint': 'fp_f85bea6784', 'finish_reason': 'stop', 'logprobs': None}, id='run-3bac4de0-6a93-4cc2-ae2e-0a46415a320d-0', usage_metadata={'input_tokens': 1148, 'output_tokens': 708, 'total_tokens': 1856})"
            ]
          },
          "metadata": {},
          "execution_count": 35
        }
      ]
    },
    {
      "cell_type": "markdown",
      "source": [
        "##### 🏗️ Activity #3:\n",
        "\n",
        "Show, through LangSmith, the different between a trace that is leveraging cache-backed embeddings and LLM calls - and one that isn't.\n",
        "\n",
        "Post screenshots in the notebook!"
      ],
      "metadata": {
        "id": "0tYAvHrJNecy"
      }
    },
    {
      "cell_type": "markdown",
      "source": [
        "![image.png](data:image/png;base64,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)"
      ],
      "metadata": {
        "id": "wJ6bqxu8hkT-"
      }
    },
    {
      "cell_type": "markdown",
      "source": [
        "The first invoke of 12.84 seconds is without caching of the prompt. There was a modest gain in second call that is contributed to searching the cache for same prompt and returning the response without hitting OpenAI. There modest difference suggests that maybe the cache did not work correctly. However, I understand the general concept through this exercise."
      ],
      "metadata": {
        "id": "D6A4KXQGjFX9"
      }
    },
    {
      "cell_type": "code",
      "source": [],
      "metadata": {
        "id": "tHWjxvmnjd4b"
      },
      "execution_count": null,
      "outputs": []
    }
  ]
}